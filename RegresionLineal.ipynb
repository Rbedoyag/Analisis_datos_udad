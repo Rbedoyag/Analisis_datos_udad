{
 "cells": [
  {
   "cell_type": "raw",
   "id": "ed78ded6-ebe0-4576-8beb-3dc5efb56f09",
   "metadata": {},
   "source": [
    "Ejercicio practico de regresión lineal tomando como base el dataset provisto por la guia entregable 2, Este código crea un modelo de regresión lineal simple para predecir el precio en función del metro cuadrado. "
   ]
  },
  {
   "cell_type": "code",
   "execution_count": null,
   "id": "182f0d7d-2b7a-451d-9f97-b125a572c56e",
   "metadata": {},
   "outputs": [],
   "source": [
    "Como primera parte realizamos la importación de las librerias necesarias para generar el modelo"
   ]
  },
  {
   "cell_type": "code",
   "execution_count": 24,
   "id": "b7cb412b-e353-43c5-acda-e1cc49f58627",
   "metadata": {},
   "outputs": [],
   "source": [
    "import pandas as pd\n",
    "from sklearn.linear_model import LinearRegression\n",
    "import matplotlib.pyplot as plt\n",
    "import numpy as np\n",
    "from sklearn.metrics import r2_score"
   ]
  },
  {
   "cell_type": "raw",
   "id": "7b37e025-cbfe-4914-93ab-ba89303e512c",
   "metadata": {},
   "source": [
    "Se carga la información del dataset en un dataframe llamado data"
   ]
  },
  {
   "cell_type": "code",
   "execution_count": 3,
   "id": "a8947f88-fcf8-4cf2-abbf-90ee0ea5ad9b",
   "metadata": {},
   "outputs": [],
   "source": [
    "data = pd.read_csv(\"C:/Users/rober/OneDrive/Documentos/Python proyectos/ANALISIS_DATOS/PASO2/Analisis_datos_udad/data_lineal.csv\", sep=\",\")\n"
   ]
  },
  {
   "cell_type": "code",
   "execution_count": 4,
   "id": "d1b538ad-c10d-48fe-ac58-ab7c3ec15a4f",
   "metadata": {},
   "outputs": [
    {
     "data": {
      "text/html": [
       "<div>\n",
       "<style scoped>\n",
       "    .dataframe tbody tr th:only-of-type {\n",
       "        vertical-align: middle;\n",
       "    }\n",
       "\n",
       "    .dataframe tbody tr th {\n",
       "        vertical-align: top;\n",
       "    }\n",
       "\n",
       "    .dataframe thead th {\n",
       "        text-align: right;\n",
       "    }\n",
       "</style>\n",
       "<table border=\"1\" class=\"dataframe\">\n",
       "  <thead>\n",
       "    <tr style=\"text-align: right;\">\n",
       "      <th></th>\n",
       "      <th>metro</th>\n",
       "      <th>precio</th>\n",
       "    </tr>\n",
       "  </thead>\n",
       "  <tbody>\n",
       "    <tr>\n",
       "      <th>0</th>\n",
       "      <td>5</td>\n",
       "      <td>375</td>\n",
       "    </tr>\n",
       "    <tr>\n",
       "      <th>1</th>\n",
       "      <td>15</td>\n",
       "      <td>487</td>\n",
       "    </tr>\n",
       "    <tr>\n",
       "      <th>2</th>\n",
       "      <td>20</td>\n",
       "      <td>450</td>\n",
       "    </tr>\n",
       "    <tr>\n",
       "      <th>3</th>\n",
       "      <td>25</td>\n",
       "      <td>500</td>\n",
       "    </tr>\n",
       "  </tbody>\n",
       "</table>\n",
       "</div>"
      ],
      "text/plain": [
       "   metro  precio\n",
       "0      5     375\n",
       "1     15     487\n",
       "2     20     450\n",
       "3     25     500"
      ]
     },
     "execution_count": 4,
     "metadata": {},
     "output_type": "execute_result"
    }
   ],
   "source": [
    "data"
   ]
  },
  {
   "cell_type": "code",
   "execution_count": 13,
   "id": "0bca525a-ba87-41a3-b4b3-f62bed7bda94",
   "metadata": {},
   "outputs": [
    {
     "data": {
      "text/html": [
       "<div>\n",
       "<style scoped>\n",
       "    .dataframe tbody tr th:only-of-type {\n",
       "        vertical-align: middle;\n",
       "    }\n",
       "\n",
       "    .dataframe tbody tr th {\n",
       "        vertical-align: top;\n",
       "    }\n",
       "\n",
       "    .dataframe thead th {\n",
       "        text-align: right;\n",
       "    }\n",
       "</style>\n",
       "<table border=\"1\" class=\"dataframe\">\n",
       "  <thead>\n",
       "    <tr style=\"text-align: right;\">\n",
       "      <th></th>\n",
       "      <th>metro</th>\n",
       "      <th>precio</th>\n",
       "    </tr>\n",
       "  </thead>\n",
       "  <tbody>\n",
       "    <tr>\n",
       "      <th>count</th>\n",
       "      <td>4.000000</td>\n",
       "      <td>4.000000</td>\n",
       "    </tr>\n",
       "    <tr>\n",
       "      <th>mean</th>\n",
       "      <td>16.250000</td>\n",
       "      <td>453.000000</td>\n",
       "    </tr>\n",
       "    <tr>\n",
       "      <th>std</th>\n",
       "      <td>8.539126</td>\n",
       "      <td>56.148612</td>\n",
       "    </tr>\n",
       "    <tr>\n",
       "      <th>min</th>\n",
       "      <td>5.000000</td>\n",
       "      <td>375.000000</td>\n",
       "    </tr>\n",
       "    <tr>\n",
       "      <th>25%</th>\n",
       "      <td>12.500000</td>\n",
       "      <td>431.250000</td>\n",
       "    </tr>\n",
       "    <tr>\n",
       "      <th>50%</th>\n",
       "      <td>17.500000</td>\n",
       "      <td>468.500000</td>\n",
       "    </tr>\n",
       "    <tr>\n",
       "      <th>75%</th>\n",
       "      <td>21.250000</td>\n",
       "      <td>490.250000</td>\n",
       "    </tr>\n",
       "    <tr>\n",
       "      <th>max</th>\n",
       "      <td>25.000000</td>\n",
       "      <td>500.000000</td>\n",
       "    </tr>\n",
       "  </tbody>\n",
       "</table>\n",
       "</div>"
      ],
      "text/plain": [
       "           metro      precio\n",
       "count   4.000000    4.000000\n",
       "mean   16.250000  453.000000\n",
       "std     8.539126   56.148612\n",
       "min     5.000000  375.000000\n",
       "25%    12.500000  431.250000\n",
       "50%    17.500000  468.500000\n",
       "75%    21.250000  490.250000\n",
       "max    25.000000  500.000000"
      ]
     },
     "execution_count": 13,
     "metadata": {},
     "output_type": "execute_result"
    }
   ],
   "source": [
    "data.describe()\n"
   ]
  },
  {
   "cell_type": "code",
   "execution_count": 14,
   "id": "66250f06-1708-4247-93ab-9112b27c0929",
   "metadata": {},
   "outputs": [
    {
     "data": {
      "text/plain": [
       "metro     int64\n",
       "precio    int64\n",
       "dtype: object"
      ]
     },
     "execution_count": 14,
     "metadata": {},
     "output_type": "execute_result"
    }
   ],
   "source": [
    "data.dtypes"
   ]
  },
  {
   "cell_type": "raw",
   "id": "5825b71f-0458-4e94-abff-7b60032ad3a3",
   "metadata": {},
   "source": [
    "Definimos las variables x y y del modelo"
   ]
  },
  {
   "cell_type": "code",
   "execution_count": 19,
   "id": "791be80c-7735-4a80-b7ae-1c8959c0d790",
   "metadata": {},
   "outputs": [],
   "source": [
    "X = data[['metro']]\n",
    "y =data['precio']"
   ]
  },
  {
   "cell_type": "raw",
   "id": "bc4e9621-3e22-4f3c-961c-4a15c1100dcd",
   "metadata": {},
   "source": [
    "Creamos y ajustamos el modelo de regresión lineal con los datos x y y "
   ]
  },
  {
   "cell_type": "code",
   "execution_count": 20,
   "id": "5e31a5c2-d55e-4e21-b978-0325d7d7124e",
   "metadata": {},
   "outputs": [
    {
     "data": {
      "text/plain": [
       "LinearRegression()"
      ]
     },
     "execution_count": 20,
     "metadata": {},
     "output_type": "execute_result"
    }
   ],
   "source": [
    "model = LinearRegression()\n",
    "model.fit(X,y)"
   ]
  },
  {
   "cell_type": "raw",
   "id": "7dccc789-fabe-41d5-8507-39ea33c248ee",
   "metadata": {},
   "source": [
    "Realizamos las predicciones del modelo"
   ]
  },
  {
   "cell_type": "code",
   "execution_count": 21,
   "id": "8d0cbf20-d323-46cd-b30a-c262b6815a89",
   "metadata": {},
   "outputs": [],
   "source": [
    "y_pred = model.predict(X)"
   ]
  },
  {
   "cell_type": "raw",
   "id": "9d5acbd2-3979-4560-936c-29817d484ff5",
   "metadata": {},
   "source": [
    "Imprimimos los coeficientes del modelo"
   ]
  },
  {
   "cell_type": "code",
   "execution_count": 22,
   "id": "11e855b9-f41b-47c4-bcad-31e63479b555",
   "metadata": {},
   "outputs": [
    {
     "name": "stdout",
     "output_type": "stream",
     "text": [
      "Coeficiente de la pendiente (coef_): [5.64571429]\n",
      "Término independiente (intercept_): 361.25714285714287\n"
     ]
    }
   ],
   "source": [
    "print(\"Coeficiente de la pendiente (coef_):\", model.coef_)\n",
    "print(\"Término independiente (intercept_):\", model.intercept_)"
   ]
  },
  {
   "cell_type": "raw",
   "id": "664498f0-680d-411f-9680-3d50ad0de1d5",
   "metadata": {},
   "source": [
    "1ra. cunclusión del analisis, A partir de este modelo de regresión lineal, se pudo concluir que existe una relación lineal positiva entre el tamaño en metros cuadrados y el precio de la propiedad. Esto significa que, en promedio, a medida que el tamaño de la propiedad aumenta en metros cuadrados, el precio tiende a aumentar. Esto es indicado por el coeficiente de la pendiente (coef_) del modelo, que es positivo, este coeficiente indica que el estandar de aumento esta determinado en 5.64 porciento lo que aumenta el precio por metro cuadrado adicional."
   ]
  },
  {
   "cell_type": "raw",
   "id": "5aa719b1-c5b1-4eb3-9580-59b572a83e48",
   "metadata": {},
   "source": [
    "Se Grafica los datos y la línea de regresión"
   ]
  },
  {
   "cell_type": "code",
   "execution_count": 23,
   "id": "f6fcc322-19cf-4cfa-b1ba-f541f4ec8759",
   "metadata": {},
   "outputs": [
    {
     "data": {
      "image/png": "[encoded data removed]",
      "text/plain": [
       "<Figure size 640x480 with 1 Axes>"
      ]
     },
     "metadata": {},
     "output_type": "display_data"
    }
   ],
   "source": [
    "\n",
    "plt.scatter(X, y, color='blue', label='Datos reales')\n",
    "plt.plot(X, y_pred, color='red', linewidth=2, label='Línea de regresión')\n",
    "plt.xlabel('Metro')\n",
    "plt.ylabel('Precio')\n",
    "plt.legend()\n",
    "plt.title('Regresión Lineal Simple')\n",
    "plt.show()\n"
   ]
  },
  {
   "cell_type": "raw",
   "id": "32749249-737c-4567-84ec-1c818df54bf0",
   "metadata": {},
   "source": [
    "2da. cunclusión del analisis, con el uso de este modelo se pueden realizar predicciones de precio para propiedades con tamaños en metros cuadrados que no estén en tu conjunto de datos original. Esto es útil para estimar el precio de propiedades en función de su tamaño sin tener que tener datos históricos específicos para cada tamaño. Simplemente ingresando un valor de metros cuadrados en el modelo, obtendrás una estimación del precio."
   ]
  },
  {
   "cell_type": "raw",
   "id": "edad360d-f9d5-4e28-b92e-5a2434f83cb0",
   "metadata": {},
   "source": [
    "Se calcula el coeficiente de determinación (R²)"
   ]
  },
  {
   "cell_type": "code",
   "execution_count": 26,
   "id": "eec4647c-6fb6-4ec2-bace-7f85a02994df",
   "metadata": {},
   "outputs": [
    {
     "name": "stdout",
     "output_type": "stream",
     "text": [
      "Coeficiente de determinación (R²): 0.737202066277981\n"
     ]
    }
   ],
   "source": [
    "r2 = r2_score(y, y_pred)\n",
    "print(f\"Coeficiente de determinación (R²): {r2}\")"
   ]
  },
  {
   "cell_type": "raw",
   "id": "8ee13b37-0518-49db-90a0-cde58a5b76da",
   "metadata": {},
   "source": [
    "3ra. cunclusión del analisis, con la aplicación del coeficiente de determinación (R²) y obteniendo su valor que es de 0.7372, podemos determinar que existe aproximadamente un 73.72% de la variabilidad en los datos. En otras palabras, alrededor del 73.72% de la variación en los precios de las propiedades puede ser explicada por el tamaño en metros cuadrados según este modelo.\n",
    "\n",
    "Este valor de R² sugiere que el modelo tiene un ajuste razonablemente bueno para los datos disponibles.\n"
   ]
  }
 ],
 "metadata": {
  "kernelspec": {
   "display_name": "Python 3 (ipykernel)",
   "language": "python",
   "name": "python3"
  },
  "language_info": {
   "codemirror_mode": {
    "name": "ipython",
    "version": 3
   },
   "file_extension": ".py",
   "mimetype": "text/x-python",
   "name": "python",
   "nbconvert_exporter": "python",
   "pygments_lexer": "ipython3",
   "version": "3.9.13"
  }
 },
 "nbformat": 4,
 "nbformat_minor": 5
}
